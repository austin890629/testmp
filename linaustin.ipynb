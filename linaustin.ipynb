{
 "cells": [
  {
   "cell_type": "code",
   "execution_count": 54,
   "metadata": {},
   "outputs": [],
   "source": [
    "import cv2\n",
    "import mediapipe as mp\n",
    "import math\n",
    "\n",
    "mp_hands=mp.solutions.hands\n",
    "hands=mp_hands.Hands()\n",
    "mp_hands.Hands(\n",
    "    static_image_mode=False,                # 影片流或靜態圖像，先檢測後追蹤\n",
    "    # 手繪地標模型的複雜性: 0 或 1。地標精度以及推斷延遲通常與模型複雜性有關。默認 1。\n",
    "    model_complexity=0,\n",
    "    # max_num_hands=1,                      # 最大手數量\n",
    "    min_detection_confidence=0.5,           # 檢測閥值\n",
    "        min_tracking_confidence=0.5)\n",
    "mp_drawing=mp.solutions.drawing_utils#畫圖方法\n",
    "hands_LmsStyle=mp_drawing.DrawingSpec(color=(0,0,255),thickness=5)\n",
    "hands_ConStyle=mp_drawing.DrawingSpec(color=(0,255,0),thickness=10)"
   ]
  },
  {
   "cell_type": "code",
   "execution_count": 55,
   "metadata": {},
   "outputs": [],
   "source": [
    "# 根據兩點的座標，計算角度\n",
    "def vector_2d_angle(v1, v2):\n",
    "    v1_x = v1[0]\n",
    "    v1_y = v1[1]\n",
    "    v2_x = v2[0]\n",
    "    v2_y = v2[1]\n",
    "    try:\n",
    "        angle_ = math.degrees(math.acos(\n",
    "            (v1_x*v2_x+v1_y*v2_y)/(((v1_x**2+v1_y**2)**0.5)*((v2_x**2+v2_y**2)**0.5))))\n",
    "    except:\n",
    "        angle_ = 180\n",
    "    return angle_"
   ]
  },
  {
   "cell_type": "code",
   "execution_count": 56,
   "metadata": {},
   "outputs": [],
   "source": [
    "# 根據傳入的 21 個節點座標，得到該手指的角度\n",
    "def hand_angle(hand_):\n",
    "    angle_list = []\n",
    "\n",
    "    angle_ = vector_2d_angle(\n",
    "        ((int(hand_[0][0]) - int(hand_[2][0])),\n",
    "         (int(hand_[0][1])-int(hand_[2][1]))),\n",
    "        ((int(hand_[3][0]) - int(hand_[4][0])),\n",
    "         (int(hand_[3][1]) - int(hand_[4][1])))\n",
    "    )\n",
    "    angle_list.append(angle_)\n",
    "\n",
    "    angle_ = vector_2d_angle(\n",
    "        ((int(hand_[0][0])-int(hand_[6][0])),\n",
    "         (int(hand_[0][1]) - int(hand_[6][1]))),\n",
    "        ((int(hand_[7][0]) - int(hand_[8][0])),\n",
    "         (int(hand_[7][1]) - int(hand_[8][1])))\n",
    "    )\n",
    "    angle_list.append(angle_)\n",
    "\n",
    "    angle_ = vector_2d_angle(\n",
    "        ((int(hand_[0][0]) - int(hand_[10][0])),\n",
    "         (int(hand_[0][1]) - int(hand_[10][1]))),\n",
    "        ((int(hand_[11][0]) - int(hand_[12][0])),\n",
    "         (int(hand_[11][1]) - int(hand_[12][1])))\n",
    "    )\n",
    "    angle_list.append(angle_)\n",
    "\n",
    "    angle_ = vector_2d_angle(\n",
    "        ((int(hand_[0][0]) - int(hand_[14][0])),\n",
    "         (int(hand_[0][1]) - int(hand_[14][1]))),\n",
    "        ((int(hand_[15][0]) - int(hand_[16][0])),\n",
    "         (int(hand_[15][1]) - int(hand_[16][1])))\n",
    "    )\n",
    "    angle_list.append(angle_)\n",
    "\n",
    "    angle_ = vector_2d_angle(\n",
    "        ((int(hand_[0][0]) - int(hand_[18][0])),\n",
    "         (int(hand_[0][1]) - int(hand_[18][1]))),\n",
    "        ((int(hand_[19][0]) - int(hand_[20][0])),\n",
    "         (int(hand_[19][1]) - int(hand_[20][1])))\n",
    "    )\n",
    "    angle_list.append(angle_)\n",
    "    return angle_list"
   ]
  },
  {
   "cell_type": "code",
   "execution_count": 57,
   "metadata": {},
   "outputs": [],
   "source": [
    "# 根據手指角度的串列內容，返回對應的手勢名稱\n",
    "def hand_pos(finger_angle):\n",
    "    f1 = finger_angle[0]\n",
    "    f2 = finger_angle[1]\n",
    "    f3 = finger_angle[2]\n",
    "    f4 = finger_angle[3]\n",
    "    f5 = finger_angle[4]\n",
    "\n",
    "    if f1 <= 50 and f2 >= 50 and f3 >= 50 and f4 >= 50 and f5 >= 50:\n",
    "        return 'GOOD'\n",
    "    elif f1 >= 50 and f2 < 50 and f3 <= 50 and f4 >= 50 and f5 >= 50:\n",
    "        return 'YA'\n",
    "    elif f1 <= 50 and f2 < 50 and f3 > 50 and f4 >= 50 and f5 <= 50:\n",
    "        return 'ROCK'\n",
    "    else:\n",
    "        return ''"
   ]
  },
  {
   "cell_type": "code",
   "execution_count": 58,
   "metadata": {},
   "outputs": [
    {
     "ename": "KeyboardInterrupt",
     "evalue": "",
     "output_type": "error",
     "traceback": [
      "\u001b[1;31m---------------------------------------------------------------------------\u001b[0m",
      "\u001b[1;31mKeyboardInterrupt\u001b[0m                         Traceback (most recent call last)",
      "\u001b[1;32m~\\AppData\\Local\\Temp\\ipykernel_9776\\1591563029.py\u001b[0m in \u001b[0;36m<module>\u001b[1;34m\u001b[0m\n\u001b[0;32m      4\u001b[0m     \u001b[0mret\u001b[0m\u001b[1;33m,\u001b[0m\u001b[0mimg\u001b[0m\u001b[1;33m=\u001b[0m\u001b[0mcap\u001b[0m\u001b[1;33m.\u001b[0m\u001b[0mread\u001b[0m\u001b[1;33m(\u001b[0m\u001b[1;33m)\u001b[0m \u001b[1;31m# ret為是否開啟鏡頭 img為每個frame\u001b[0m\u001b[1;33m\u001b[0m\u001b[1;33m\u001b[0m\u001b[0m\n\u001b[0;32m      5\u001b[0m     \u001b[0mimg_rgb\u001b[0m\u001b[1;33m=\u001b[0m\u001b[0mcv2\u001b[0m\u001b[1;33m.\u001b[0m\u001b[0mcvtColor\u001b[0m\u001b[1;33m(\u001b[0m\u001b[0mimg\u001b[0m\u001b[1;33m,\u001b[0m\u001b[0mcv2\u001b[0m\u001b[1;33m.\u001b[0m\u001b[0mCOLOR_BGR2RGB\u001b[0m\u001b[1;33m)\u001b[0m\u001b[1;33m\u001b[0m\u001b[1;33m\u001b[0m\u001b[0m\n\u001b[1;32m----> 6\u001b[1;33m     \u001b[0mresults\u001b[0m\u001b[1;33m=\u001b[0m\u001b[0mhands\u001b[0m\u001b[1;33m.\u001b[0m\u001b[0mprocess\u001b[0m\u001b[1;33m(\u001b[0m\u001b[0mimg_rgb\u001b[0m\u001b[1;33m)\u001b[0m\u001b[1;33m\u001b[0m\u001b[1;33m\u001b[0m\u001b[0m\n\u001b[0m\u001b[0;32m      7\u001b[0m     \u001b[0mh\u001b[0m\u001b[1;33m=\u001b[0m\u001b[0mimg_rgb\u001b[0m\u001b[1;33m.\u001b[0m\u001b[0mshape\u001b[0m\u001b[1;33m[\u001b[0m\u001b[1;36m0\u001b[0m\u001b[1;33m]\u001b[0m\u001b[1;33m\u001b[0m\u001b[1;33m\u001b[0m\u001b[0m\n\u001b[0;32m      8\u001b[0m     \u001b[0mw\u001b[0m\u001b[1;33m=\u001b[0m\u001b[0mimg_rgb\u001b[0m\u001b[1;33m.\u001b[0m\u001b[0mshape\u001b[0m\u001b[1;33m[\u001b[0m\u001b[1;36m1\u001b[0m\u001b[1;33m]\u001b[0m\u001b[1;33m\u001b[0m\u001b[1;33m\u001b[0m\u001b[0m\n",
      "\u001b[1;32mc:\\Users\\ccuser\\.conda\\envs\\lin\\lib\\site-packages\\mediapipe\\python\\solutions\\hands.py\u001b[0m in \u001b[0;36mprocess\u001b[1;34m(self, image)\u001b[0m\n\u001b[0;32m    151\u001b[0m     \"\"\"\n\u001b[0;32m    152\u001b[0m \u001b[1;33m\u001b[0m\u001b[0m\n\u001b[1;32m--> 153\u001b[1;33m     \u001b[1;32mreturn\u001b[0m \u001b[0msuper\u001b[0m\u001b[1;33m(\u001b[0m\u001b[1;33m)\u001b[0m\u001b[1;33m.\u001b[0m\u001b[0mprocess\u001b[0m\u001b[1;33m(\u001b[0m\u001b[0minput_data\u001b[0m\u001b[1;33m=\u001b[0m\u001b[1;33m{\u001b[0m\u001b[1;34m'image'\u001b[0m\u001b[1;33m:\u001b[0m \u001b[0mimage\u001b[0m\u001b[1;33m}\u001b[0m\u001b[1;33m)\u001b[0m\u001b[1;33m\u001b[0m\u001b[1;33m\u001b[0m\u001b[0m\n\u001b[0m",
      "\u001b[1;32mc:\\Users\\ccuser\\.conda\\envs\\lin\\lib\\site-packages\\mediapipe\\python\\solution_base.py\u001b[0m in \u001b[0;36mprocess\u001b[1;34m(self, input_data)\u001b[0m\n\u001b[0;32m    363\u001b[0m                                      data).at(self._simulated_timestamp))\n\u001b[0;32m    364\u001b[0m \u001b[1;33m\u001b[0m\u001b[0m\n\u001b[1;32m--> 365\u001b[1;33m     \u001b[0mself\u001b[0m\u001b[1;33m.\u001b[0m\u001b[0m_graph\u001b[0m\u001b[1;33m.\u001b[0m\u001b[0mwait_until_idle\u001b[0m\u001b[1;33m(\u001b[0m\u001b[1;33m)\u001b[0m\u001b[1;33m\u001b[0m\u001b[1;33m\u001b[0m\u001b[0m\n\u001b[0m\u001b[0;32m    366\u001b[0m     \u001b[1;31m# Create a NamedTuple object where the field names are mapping to the graph\u001b[0m\u001b[1;33m\u001b[0m\u001b[1;33m\u001b[0m\u001b[1;33m\u001b[0m\u001b[0m\n\u001b[0;32m    367\u001b[0m     \u001b[1;31m# output stream names.\u001b[0m\u001b[1;33m\u001b[0m\u001b[1;33m\u001b[0m\u001b[1;33m\u001b[0m\u001b[0m\n",
      "\u001b[1;31mKeyboardInterrupt\u001b[0m: "
     ]
    }
   ],
   "source": [
    "cap = cv2.VideoCapture(0) # 選擇webcan鏡頭\n",
    "\n",
    "while True:\n",
    "    ret,img=cap.read() # ret為是否開啟鏡頭 img為每個frame\n",
    "    img_rgb=cv2.cvtColor(img,cv2.COLOR_BGR2RGB)\n",
    "    results=hands.process(img_rgb)\n",
    "    h=img_rgb.shape[0]\n",
    "    w=img_rgb.shape[1]\n",
    "    if results.multi_hand_landmarks:\n",
    "           # print(results.multi_hand_landmarks)\n",
    "            #break\n",
    "            for hand_landmarks in results.multi_hand_landmarks:\n",
    "                mp_drawing.draw_landmarks(img, hand_landmarks, mp_hands.HAND_CONNECTIONS, hands_LmsStyle, hands_ConStyle)\n",
    "                finger_points=[]\n",
    "                for i in hand_landmarks.landmark:\n",
    "                    \n",
    "                    x=i.x*w\n",
    "                    y=i.y*h\n",
    "                    finger_points.append((x,y))\n",
    "                if finger_points:\n",
    "                    finger_angle=hand_angle(finger_points)\n",
    "                    text=hand_pos(finger_angle)\n",
    "                    cv2.putText(img,text,(30,120),cv2.FONT_HERSHEY_SIMPLEX,3,(255,0,0),10)\n",
    "    \n",
    "    cv2.imshow('hand',img) #  開啟視窗 視窗名稱為hand 影像為img\n",
    "    if cv2.waitKey(5)== ord('q'): # 當當我今天按下英文字母q 會做跳出的動作\n",
    "        break\n",
    "cap.release\n",
    "cv2.destroyAllWindows() \n"
   ]
  }
 ],
 "metadata": {
  "kernelspec": {
   "display_name": "lin",
   "language": "python",
   "name": "python3"
  },
  "language_info": {
   "codemirror_mode": {
    "name": "ipython",
    "version": 3
   },
   "file_extension": ".py",
   "mimetype": "text/x-python",
   "name": "python",
   "nbconvert_exporter": "python",
   "pygments_lexer": "ipython3",
   "version": "3.7.16"
  },
  "orig_nbformat": 4
 },
 "nbformat": 4,
 "nbformat_minor": 2
}
